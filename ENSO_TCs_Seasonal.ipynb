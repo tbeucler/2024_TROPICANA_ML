{
  "nbformat": 4,
  "nbformat_minor": 0,
  "metadata": {
    "colab": {
      "provenance": [],
      "authorship_tag": "ABX9TyN6ZP2jiAkSF328vOWf0HKl",
      "include_colab_link": true
    },
    "kernelspec": {
      "name": "python3",
      "display_name": "Python 3"
    },
    "language_info": {
      "name": "python"
    }
  },
  "cells": [
    {
      "cell_type": "markdown",
      "metadata": {
        "id": "view-in-github",
        "colab_type": "text"
      },
      "source": [
        "<a href=\"https://colab.research.google.com/github/tbeucler/2024_TROPICANA_ML/blob/main/ENSO_TCs_Seasonal.ipynb\" target=\"_parent\"><img src=\"https://colab.research.google.com/assets/colab-badge.svg\" alt=\"Open In Colab\"/></a>"
      ]
    },
    {
      "cell_type": "markdown",
      "source": [
        "# 🌴 Tropicana 2024 🌴\n",
        "\n",
        "# ML Classification for Seasonal Tropical Cyclone Prediction using ENSO 🌀\n",
        "\n",
        "Co-authors: Maria J. Molina (UMD) and Emily Faith Wisinski (UMD)"
      ],
      "metadata": {
        "id": "uqdCSUK6vVKK"
      }
    },
    {
      "cell_type": "code",
      "execution_count": 1,
      "metadata": {
        "id": "gnsltiI0Pk1H"
      },
      "outputs": [],
      "source": [
        "import numpy as np\n",
        "import matplotlib.pyplot as plt\n",
        "import pandas as pd\n",
        "from sklearn.preprocessing import MinMaxScaler\n",
        "from sklearn.model_selection import KFold\n",
        "from keras.layers import Dense, Activation\n",
        "import keras\n",
        "keras.utils.set_random_seed(812)"
      ]
    },
    {
      "cell_type": "markdown",
      "source": [
        "Here we have two functions that will help us with opening our training datasets and preprocessing them.\n",
        "1.   We will be using **NOAA's Oceanic Nino Index straight from the Climate Prediction Center.** This data is monthly temporal resolution (rolling three-month means).\n",
        "2.   We will also be using **NOAA's ibtracs dataset.** Please note that the ibtracs dataset has numerous issues related to inconsistent reporting practices, changes in the observational record, etc. which make computing a climatology for tropical cyclones tricky. We will be using a rolling climatology to try to smooth out some of these issues, but we caution users if using this data for other purposes beyond this tutorial."
      ],
      "metadata": {
        "id": "_zhe5-Fn4dD6"
      }
    },
    {
      "cell_type": "code",
      "source": [
        "def open_oni_dataset(year_start=1955, year_end=2023, season='JJA'):\n",
        "  \"\"\"\n",
        "  Open and preprocess NOAA ONI dataset.\n",
        "  Returns ONI for the year range and season selected.\n",
        "  \"\"\"\n",
        "  # reading dataset from NOAA online\n",
        "  enso_dataset = pd.read_csv(\n",
        "      'http://www.cpc.ncep.noaa.gov/data/indices/oni.ascii.txt',\n",
        "      delim_whitespace=True\n",
        "      )\n",
        "  # filter by year range\n",
        "  enso_dataset = enso_dataset[\n",
        "      (enso_dataset['YR']>=year_start)&(enso_dataset['YR']<=year_end)\n",
        "      ]\n",
        "  # filter by season\n",
        "  enso_dataset = enso_dataset[enso_dataset['SEAS']==season]\n",
        "  # return anomalies/ONI as numpy array\n",
        "  return np.asarray(enso_dataset[\"ANOM\"])"
      ],
      "metadata": {
        "id": "CSMPSjEAQKA7"
      },
      "execution_count": 2,
      "outputs": []
    },
    {
      "cell_type": "code",
      "source": [
        "def open_tc_dataset(year_start=1955, year_end=2023, mo_start=8, mo_end=10, rolling_yrs=30):\n",
        "  \"\"\"\n",
        "  Open and preprocess ibtracs dataset.\n",
        "  Returns integer encoded classes for negative/positive anomalies of TC frequency for period selected.\n",
        "  \"\"\"\n",
        "  # reading dataset from NOAA online\n",
        "  tc_dataset = pd.read_csv(\n",
        "    'https://www.ncei.noaa.gov/data/international-best-track-archive-for-climate-stewardship-ibtracs/v04r01/access/csv/ibtracs.NA.list.v04r01.csv',\n",
        "    skiprows = [1]\n",
        "    )\n",
        "  # dummy arrays for masking\n",
        "  year_tmp = pd.to_datetime(\n",
        "      tc_dataset['ISO_TIME'].array\n",
        "      ).year\n",
        "  mo_tmp = pd.to_datetime(\n",
        "      tc_dataset['ISO_TIME'].array\n",
        "      ).month\n",
        "  # filter using year range\n",
        "  tc_dataset = tc_dataset[\n",
        "      (year_tmp>=year_start)&(year_tmp<=year_end)&(mo_tmp>=mo_start)&(mo_tmp<=mo_end)\n",
        "      ]\n",
        "  # only consider tropical cyclones\n",
        "  tc_dataset = tc_dataset[\n",
        "      tc_dataset['NATURE']=='TS'\n",
        "      ]\n",
        "  # add year column\n",
        "  tc_dataset['YR'] = pd.to_datetime(\n",
        "      tc_dataset['ISO_TIME'].array\n",
        "      ).year\n",
        "  # count unique tcs per year\n",
        "  tc_dataset = tc_dataset.groupby('YR')['NAME'].nunique()\n",
        "  # rolling climatology\n",
        "  climo = tc_dataset.rolling(rolling_yrs, min_periods=1, center=True).mean()\n",
        "  # anomalies from climo\n",
        "  tc_anom = tc_dataset - climo\n",
        "  # create two classes; 0 when negative anom, 1 when positive anom\n",
        "  integer_encoding = np.where(tc_anom < 0, 0, 1)\n",
        "  return integer_encoding"
      ],
      "metadata": {
        "id": "bkPHWXDhs5xI"
      },
      "execution_count": 3,
      "outputs": []
    },
    {
      "cell_type": "code",
      "source": [
        "yr0 = 1955\n",
        "yr1 = 2023\n",
        "\n",
        "enso_ds = open_oni_dataset(\n",
        "    year_start=yr0, year_end=yr1, season='JJA'\n",
        "    )\n",
        "tc_ds = open_tc_dataset(\n",
        "    year_start=yr0, year_end=yr1, mo_start=8, mo_end=10, rolling_yrs=30\n",
        "    )"
      ],
      "metadata": {
        "colab": {
          "base_uri": "https://localhost:8080/"
        },
        "id": "_5ldACe9eBA6",
        "outputId": "09ac83bd-a4b3-4c46-f011-30ed85ce5a10"
      },
      "execution_count": 4,
      "outputs": [
        {
          "output_type": "stream",
          "name": "stderr",
          "text": [
            "<ipython-input-3-61c4ef95ad48>:7: DtypeWarning: Columns (3,19,20,23,24,40,172,173) have mixed types. Specify dtype option on import or set low_memory=False.\n",
            "  tc_dataset = pd.read_csv(\n"
          ]
        }
      ]
    },
    {
      "cell_type": "code",
      "source": [
        "enso_ds"
      ],
      "metadata": {
        "colab": {
          "base_uri": "https://localhost:8080/"
        },
        "id": "w1i13QUpHWJj",
        "outputId": "e27aa7a6-1f7f-468e-aa69-8b0d396f0d07"
      },
      "execution_count": 5,
      "outputs": [
        {
          "output_type": "execute_result",
          "data": {
            "text/plain": [
              "array([-0.68, -0.57,  1.25,  0.57, -0.18,  0.13,  0.14, -0.04,  0.86,\n",
              "       -0.6 ,  1.22,  0.24,  0.05,  0.58,  0.36, -0.63, -0.8 ,  1.13,\n",
              "       -1.11, -0.53, -1.13,  0.18,  0.35, -0.36,  0.04,  0.25, -0.3 ,\n",
              "        0.79,  0.31, -0.3 , -0.49,  0.22,  1.51, -1.3 , -0.31,  0.33,\n",
              "        0.73,  0.37,  0.32,  0.44, -0.24, -0.27,  1.6 , -0.78, -1.1 ,\n",
              "       -0.55, -0.08,  0.79,  0.08,  0.47, -0.06,  0.1 , -0.56, -0.37,\n",
              "        0.45, -1.05, -0.48,  0.25, -0.4 ,  0.05,  1.52, -0.36,  0.14,\n",
              "        0.09,  0.28, -0.41, -0.4 , -0.81,  1.07])"
            ]
          },
          "metadata": {},
          "execution_count": 5
        }
      ]
    },
    {
      "cell_type": "code",
      "source": [
        "tc_ds"
      ],
      "metadata": {
        "colab": {
          "base_uri": "https://localhost:8080/"
        },
        "id": "dK_Dq_FAdZKE",
        "outputId": "a3921b75-703e-4f45-dd44-2b6a2092d9c1"
      },
      "execution_count": 6,
      "outputs": [
        {
          "output_type": "execute_result",
          "data": {
            "text/plain": [
              "array([1, 0, 0, 1, 0, 0, 1, 0, 1, 1, 0, 0, 1, 0, 1, 0, 1, 0, 0, 1, 0, 1,\n",
              "       0, 1, 0, 1, 1, 0, 0, 1, 1, 0, 0, 1, 0, 1, 0, 0, 0, 0, 1, 0, 0, 1,\n",
              "       1, 1, 1, 1, 0, 1, 1, 0, 1, 1, 0, 1, 1, 1, 0, 0, 0, 0, 0, 1, 1, 1,\n",
              "       1, 0, 1])"
            ]
          },
          "metadata": {},
          "execution_count": 6
        }
      ]
    },
    {
      "cell_type": "code",
      "source": [
        "# in the case that you'd like minmax scaling (to rescale features):\n",
        "\n",
        "# Feature Scaling\n",
        "# sc = MinMaxScaler(feature_range=(0,1))\n",
        "# sc = StandardScaler()\n",
        "\n",
        "# do rescaling\n",
        "# enso_scaled = sc.fit_transform(enso_ds.reshape(-1, 1))"
      ],
      "metadata": {
        "id": "dOoXrf7DQiP3"
      },
      "execution_count": 7,
      "outputs": []
    },
    {
      "cell_type": "code",
      "source": [
        "# metrics that are useful for classification, particularly for two classes\n",
        "# metrics list available here: https://keras.io/api/metrics/\n",
        "METRICS = [\n",
        "    keras.metrics.BinaryAccuracy(name='accuracy'),\n",
        "    keras.metrics.BinaryCrossentropy(name='cross entropy'),  # same as model's loss\n",
        "    keras.metrics.TruePositives(name='tp'),\n",
        "    keras.metrics.FalsePositives(name='fp'),\n",
        "    keras.metrics.TrueNegatives(name='tn'),\n",
        "    keras.metrics.FalseNegatives(name='fn'),\n",
        "    keras.metrics.Precision(name='precision'),\n",
        "    keras.metrics.Recall(name='recall'),\n",
        "    keras.metrics.AUC(name='auc'),\n",
        "    keras.metrics.AUC(name='prc', curve='PR'), # precision-recall curve\n",
        "]"
      ],
      "metadata": {
        "id": "hW5TXY5whrdK"
      },
      "execution_count": 8,
      "outputs": []
    },
    {
      "cell_type": "code",
      "source": [
        "num_folds = 5\n",
        "BATCH_SIZE = 16\n",
        "EPOCHS = 100\n",
        "\n",
        "# Define per-fold score containers <-- these are new\n",
        "acc_per_fold = []\n",
        "loss_per_fold = []\n",
        "\n",
        "# Define the K-fold Cross Validator\n",
        "kfold = KFold(n_splits=num_folds, shuffle=True)\n",
        "\n",
        "# K-fold Cross Validation model evaluation\n",
        "fold_no = 1\n",
        "for train, test in kfold.split(enso_ds, tc_ds):\n",
        "\n",
        "  # Define the model architecture\n",
        "  model = keras.Sequential() # instantiate model object\n",
        "\n",
        "  # Creating our input layer (not required, but I recommend this because\n",
        "  # it lets the model get built continuously as you are adding layers rather than waiting till the end to build).\n",
        "  model.add(keras.Input(shape=(1,), name=\"input_layer\"))\n",
        "\n",
        "  # Now lets add our hidden layers\n",
        "  model.add(\n",
        "      keras.layers.Dense(units=4, activation=keras.activations.relu)\n",
        "      )\n",
        "  model.add(\n",
        "      keras.layers.Dense(units=4, activation=keras.activations.relu)\n",
        "      )\n",
        "\n",
        "  # Finally, we add last fully connected (dense) layers\n",
        "  model.add(keras.layers.Dense(1, activation=\"sigmoid\"))\n",
        "\n",
        "  # print model summary\n",
        "  model.summary()\n",
        "\n",
        "  # Compile the model\n",
        "  model.compile(\n",
        "      optimizer=keras.optimizers.Adam(learning_rate=0.0001),\n",
        "      loss='mse',\n",
        "      metrics=METRICS\n",
        "  )\n",
        "\n",
        "  # Generate a print\n",
        "  print('------------------------------------------------------------------------')\n",
        "  print(f'Training for fold {fold_no} ...')\n",
        "\n",
        "  # Fit data to model\n",
        "  history = model.fit(\n",
        "    x=enso_ds[train],\n",
        "    y=tc_ds[train],\n",
        "    batch_size=BATCH_SIZE,\n",
        "    epochs=EPOCHS,\n",
        "    verbose=0\n",
        "  )\n",
        "\n",
        "  # Generate generalization metrics\n",
        "  scores = model.evaluate(enso_ds[test], tc_ds[test], verbose=0)\n",
        "\n",
        "  print(f'Score for fold {fold_no}: {model.metrics_names[0]} of {scores[0]}; {model.metrics_names[1]} of {scores[1]*100}%')\n",
        "\n",
        "  acc_per_fold.append(scores[1] * 100)\n",
        "  loss_per_fold.append(scores[0])\n",
        "\n",
        "  # Increase fold number\n",
        "  fold_no = fold_no + 1"
      ],
      "metadata": {
        "colab": {
          "base_uri": "https://localhost:8080/"
        },
        "id": "aNqkMpUfpQWO",
        "outputId": "e4c07aa4-6375-48b3-e6d9-e0665bda6aaa"
      },
      "execution_count": 9,
      "outputs": [
        {
          "output_type": "stream",
          "name": "stdout",
          "text": [
            "Model: \"sequential\"\n",
            "_________________________________________________________________\n",
            " Layer (type)                Output Shape              Param #   \n",
            "=================================================================\n",
            " dense (Dense)               (None, 4)                 8         \n",
            "                                                                 \n",
            " dense_1 (Dense)             (None, 4)                 20        \n",
            "                                                                 \n",
            " dense_2 (Dense)             (None, 1)                 5         \n",
            "                                                                 \n",
            "=================================================================\n",
            "Total params: 33 (132.00 Byte)\n",
            "Trainable params: 33 (132.00 Byte)\n",
            "Non-trainable params: 0 (0.00 Byte)\n",
            "_________________________________________________________________\n",
            "------------------------------------------------------------------------\n",
            "Training for fold 1 ...\n",
            "Score for fold 1: loss of 0.21620750427246094; accuracy of 64.28571343421936%\n",
            "Model: \"sequential_1\"\n",
            "_________________________________________________________________\n",
            " Layer (type)                Output Shape              Param #   \n",
            "=================================================================\n",
            " dense_3 (Dense)             (None, 4)                 8         \n",
            "                                                                 \n",
            " dense_4 (Dense)             (None, 4)                 20        \n",
            "                                                                 \n",
            " dense_5 (Dense)             (None, 1)                 5         \n",
            "                                                                 \n",
            "=================================================================\n",
            "Total params: 33 (132.00 Byte)\n",
            "Trainable params: 33 (132.00 Byte)\n",
            "Non-trainable params: 0 (0.00 Byte)\n",
            "_________________________________________________________________\n",
            "------------------------------------------------------------------------\n",
            "Training for fold 2 ...\n",
            "Score for fold 2: loss of 0.24911168217658997; accuracy of 57.14285969734192%\n",
            "Model: \"sequential_2\"\n",
            "_________________________________________________________________\n",
            " Layer (type)                Output Shape              Param #   \n",
            "=================================================================\n",
            " dense_6 (Dense)             (None, 4)                 8         \n",
            "                                                                 \n",
            " dense_7 (Dense)             (None, 4)                 20        \n",
            "                                                                 \n",
            " dense_8 (Dense)             (None, 1)                 5         \n",
            "                                                                 \n",
            "=================================================================\n",
            "Total params: 33 (132.00 Byte)\n",
            "Trainable params: 33 (132.00 Byte)\n",
            "Non-trainable params: 0 (0.00 Byte)\n",
            "_________________________________________________________________\n",
            "------------------------------------------------------------------------\n",
            "Training for fold 3 ...\n",
            "Score for fold 3: loss of 0.25794434547424316; accuracy of 42.85714328289032%\n",
            "Model: \"sequential_3\"\n",
            "_________________________________________________________________\n",
            " Layer (type)                Output Shape              Param #   \n",
            "=================================================================\n",
            " dense_9 (Dense)             (None, 4)                 8         \n",
            "                                                                 \n",
            " dense_10 (Dense)            (None, 4)                 20        \n",
            "                                                                 \n",
            " dense_11 (Dense)            (None, 1)                 5         \n",
            "                                                                 \n",
            "=================================================================\n",
            "Total params: 33 (132.00 Byte)\n",
            "Trainable params: 33 (132.00 Byte)\n",
            "Non-trainable params: 0 (0.00 Byte)\n",
            "_________________________________________________________________\n",
            "------------------------------------------------------------------------\n",
            "Training for fold 4 ...\n",
            "Score for fold 4: loss of 0.24710801243782043; accuracy of 50.0%\n",
            "Model: \"sequential_4\"\n",
            "_________________________________________________________________\n",
            " Layer (type)                Output Shape              Param #   \n",
            "=================================================================\n",
            " dense_12 (Dense)            (None, 4)                 8         \n",
            "                                                                 \n",
            " dense_13 (Dense)            (None, 4)                 20        \n",
            "                                                                 \n",
            " dense_14 (Dense)            (None, 1)                 5         \n",
            "                                                                 \n",
            "=================================================================\n",
            "Total params: 33 (132.00 Byte)\n",
            "Trainable params: 33 (132.00 Byte)\n",
            "Non-trainable params: 0 (0.00 Byte)\n",
            "_________________________________________________________________\n",
            "------------------------------------------------------------------------\n",
            "Training for fold 5 ...\n"
          ]
        },
        {
          "output_type": "stream",
          "name": "stderr",
          "text": [
            "WARNING:tensorflow:5 out of the last 5 calls to <function Model.make_test_function.<locals>.test_function at 0x7fef1e2b0700> triggered tf.function retracing. Tracing is expensive and the excessive number of tracings could be due to (1) creating @tf.function repeatedly in a loop, (2) passing tensors with different shapes, (3) passing Python objects instead of tensors. For (1), please define your @tf.function outside of the loop. For (2), @tf.function has reduce_retracing=True option that can avoid unnecessary retracing. For (3), please refer to https://www.tensorflow.org/guide/function#controlling_retracing and https://www.tensorflow.org/api_docs/python/tf/function for  more details.\n"
          ]
        },
        {
          "output_type": "stream",
          "name": "stdout",
          "text": [
            "Score for fold 5: loss of 0.23345287144184113; accuracy of 76.92307829856873%\n"
          ]
        }
      ]
    },
    {
      "cell_type": "code",
      "source": [
        "plt.bar(range(0, num_folds), loss_per_fold)\n",
        "plt.show()"
      ],
      "metadata": {
        "colab": {
          "base_uri": "https://localhost:8080/",
          "height": 430
        },
        "id": "FnRiqNUaxdxJ",
        "outputId": "703e0a46-c949-4898-a94f-3b6db8d1f335"
      },
      "execution_count": 10,
      "outputs": [
        {
          "output_type": "display_data",
          "data": {
            "text/plain": [
              "<Figure size 640x480 with 1 Axes>"
            ],
            "image/png": "[encoded data removed]"
          },
          "metadata": {}
        }
      ]
    },
    {
      "cell_type": "code",
      "source": [
        "plt.bar(range(0, num_folds), acc_per_fold)\n",
        "plt.show()"
      ],
      "metadata": {
        "colab": {
          "base_uri": "https://localhost:8080/",
          "height": 432
        },
        "id": "MACeJch4xOUS",
        "outputId": "4d6a20b3-cfcb-4a05-d800-ce5c0ed758ba"
      },
      "execution_count": 11,
      "outputs": [
        {
          "output_type": "display_data",
          "data": {
            "text/plain": [
              "<Figure size 640x480 with 1 Axes>"
            ],
            "image/png": "[encoded data removed]"
          },
          "metadata": {}
        }
      ]
    },
    {
      "cell_type": "markdown",
      "source": [
        "## Tutorial Practice: How do metrics vary based on the number of k-folds?"
      ],
      "metadata": {
        "id": "iDvvuSS2u0MS"
      }
    },
    {
      "cell_type": "code",
      "source": [
        "# recreate the model/kfold experiment and training"
      ],
      "metadata": {
        "id": "LoHinfL-vJWs"
      },
      "execution_count": 12,
      "outputs": []
    },
    {
      "cell_type": "code",
      "source": [
        "# evaluate the new model's skill"
      ],
      "metadata": {
        "id": "NqmQyLzIhrZA"
      },
      "execution_count": 13,
      "outputs": []
    },
    {
      "cell_type": "markdown",
      "source": [
        "Other sample questions for practice:\n",
        "\n",
        "- How does batch size impact model training?\n",
        "\n",
        "- How does the learning rate impact model training?\n",
        "\n",
        "- Does data augmentation help with model skill?\n",
        "\n",
        "- Does reducing regularization impact overfitting (hint: add dropout or batchnorm)?"
      ],
      "metadata": {
        "id": "dXUttP_Ju96Z"
      }
    },
    {
      "cell_type": "markdown",
      "source": [
        "## What about categorical prediction with one-hot encoding?"
      ],
      "metadata": {
        "id": "PRc8ePfwy489"
      }
    },
    {
      "cell_type": "code",
      "source": [
        "# convert labels into classes using one-hot encoding\n",
        "onehot_layer = keras.layers.CategoryEncoding(num_tokens=2, output_mode=\"one_hot\")\n",
        "tc_onehot = onehot_layer(tc_ds.astype(int))"
      ],
      "metadata": {
        "id": "gm5SwR3Pu9bK"
      },
      "execution_count": 14,
      "outputs": []
    },
    {
      "cell_type": "code",
      "source": [
        "tc_ds[:5]"
      ],
      "metadata": {
        "colab": {
          "base_uri": "https://localhost:8080/"
        },
        "id": "ygdArjbYzPF5",
        "outputId": "e810ac6e-803f-45fa-c12c-0a92ad74a849"
      },
      "execution_count": 15,
      "outputs": [
        {
          "output_type": "execute_result",
          "data": {
            "text/plain": [
              "array([1, 0, 0, 1, 0])"
            ]
          },
          "metadata": {},
          "execution_count": 15
        }
      ]
    },
    {
      "cell_type": "code",
      "source": [
        "tc_onehot[:5,:]"
      ],
      "metadata": {
        "colab": {
          "base_uri": "https://localhost:8080/"
        },
        "id": "-KUlg-MTy4oC",
        "outputId": "6d9254d6-0a5b-4139-cc18-4f1379d270a4"
      },
      "execution_count": 16,
      "outputs": [
        {
          "output_type": "execute_result",
          "data": {
            "text/plain": [
              "<tf.Tensor: shape=(5, 2), dtype=float32, numpy=\n",
              "array([[0., 1.],\n",
              "       [1., 0.],\n",
              "       [1., 0.],\n",
              "       [0., 1.],\n",
              "       [1., 0.]], dtype=float32)>"
            ]
          },
          "metadata": {},
          "execution_count": 16
        }
      ]
    },
    {
      "cell_type": "code",
      "source": [
        "num_folds = 5\n",
        "BATCH_SIZE = 16\n",
        "EPOCHS = 100\n",
        "\n",
        "# Define per-fold score containers <-- these are new\n",
        "acc_per_fold = []\n",
        "loss_per_fold = []\n",
        "\n",
        "# Define the K-fold Cross Validator\n",
        "kfold = KFold(n_splits=num_folds, shuffle=True)\n",
        "\n",
        "# K-fold Cross Validation model evaluation\n",
        "fold_no = 1\n",
        "for train, test in kfold.split(enso_ds, tc_onehot):\n",
        "\n",
        "  # Define the model architecture\n",
        "  model = keras.Sequential() # instantiate model object\n",
        "\n",
        "  # Creating our input layer (not required, but I recommend this because\n",
        "  # it lets the model get built continuously as you are adding layers rather than waiting till the end to build).\n",
        "  model.add(keras.Input(shape=(1,), name=\"input_layer\"))\n",
        "\n",
        "  # Now lets add our hidden layers\n",
        "  model.add(\n",
        "      keras.layers.Dense(units=4, activation=keras.activations.relu)\n",
        "      )\n",
        "  model.add(\n",
        "      keras.layers.Dense(units=4, activation=keras.activations.relu)\n",
        "      )\n",
        "\n",
        "  # Finally, we add last fully connected (dense) layers\n",
        "  model.add(keras.layers.Dense(2, activation=\"softmax\"))\n",
        "\n",
        "  # print model summary\n",
        "  model.summary()\n",
        "\n",
        "  # Compile the model\n",
        "  model.compile(\n",
        "      optimizer=keras.optimizers.Adam(learning_rate=0.0001),\n",
        "      loss=keras.losses.BinaryCrossentropy(), # categorical loss function\n",
        "      metrics=METRICS\n",
        "  )\n",
        "\n",
        "  # Generate a print\n",
        "  print('------------------------------------------------------------------------')\n",
        "  print(f'Training for fold {fold_no} ...')\n",
        "\n",
        "  # Fit data to model\n",
        "  history = model.fit(\n",
        "    x=enso_ds[train],\n",
        "    y=tc_onehot.numpy()[train],\n",
        "    batch_size=BATCH_SIZE,\n",
        "    epochs=EPOCHS,\n",
        "    verbose=0\n",
        "  )\n",
        "\n",
        "  # Generate generalization metrics\n",
        "  scores = model.evaluate(enso_ds[test], tc_onehot.numpy()[test], verbose=0)\n",
        "\n",
        "  print(f'Score for fold {fold_no}: {model.metrics_names[0]} of {scores[0]}; {model.metrics_names[1]} of {scores[1]*100}%')\n",
        "\n",
        "  acc_per_fold.append(scores[1] * 100)\n",
        "  loss_per_fold.append(scores[0])\n",
        "\n",
        "  # Increase fold number\n",
        "  fold_no = fold_no + 1"
      ],
      "metadata": {
        "colab": {
          "base_uri": "https://localhost:8080/"
        },
        "id": "5qsYGLlSzSTf",
        "outputId": "a3a2108d-ab13-4f8d-caf6-ee60f2d471eb"
      },
      "execution_count": 17,
      "outputs": [
        {
          "output_type": "stream",
          "name": "stdout",
          "text": [
            "Model: \"sequential_5\"\n",
            "_________________________________________________________________\n",
            " Layer (type)                Output Shape              Param #   \n",
            "=================================================================\n",
            " dense_15 (Dense)            (None, 4)                 8         \n",
            "                                                                 \n",
            " dense_16 (Dense)            (None, 4)                 20        \n",
            "                                                                 \n",
            " dense_17 (Dense)            (None, 2)                 10        \n",
            "                                                                 \n",
            "=================================================================\n",
            "Total params: 38 (152.00 Byte)\n",
            "Trainable params: 38 (152.00 Byte)\n",
            "Non-trainable params: 0 (0.00 Byte)\n",
            "_________________________________________________________________\n",
            "------------------------------------------------------------------------\n",
            "Training for fold 1 ...\n"
          ]
        },
        {
          "output_type": "stream",
          "name": "stderr",
          "text": [
            "WARNING:tensorflow:6 out of the last 6 calls to <function Model.make_test_function.<locals>.test_function at 0x7fef1daeef80> triggered tf.function retracing. Tracing is expensive and the excessive number of tracings could be due to (1) creating @tf.function repeatedly in a loop, (2) passing tensors with different shapes, (3) passing Python objects instead of tensors. For (1), please define your @tf.function outside of the loop. For (2), @tf.function has reduce_retracing=True option that can avoid unnecessary retracing. For (3), please refer to https://www.tensorflow.org/guide/function#controlling_retracing and https://www.tensorflow.org/api_docs/python/tf/function for  more details.\n"
          ]
        },
        {
          "output_type": "stream",
          "name": "stdout",
          "text": [
            "Score for fold 1: loss of 0.6924195885658264; accuracy of 71.42857313156128%\n",
            "Model: \"sequential_6\"\n",
            "_________________________________________________________________\n",
            " Layer (type)                Output Shape              Param #   \n",
            "=================================================================\n",
            " dense_18 (Dense)            (None, 4)                 8         \n",
            "                                                                 \n",
            " dense_19 (Dense)            (None, 4)                 20        \n",
            "                                                                 \n",
            " dense_20 (Dense)            (None, 2)                 10        \n",
            "                                                                 \n",
            "=================================================================\n",
            "Total params: 38 (152.00 Byte)\n",
            "Trainable params: 38 (152.00 Byte)\n",
            "Non-trainable params: 0 (0.00 Byte)\n",
            "_________________________________________________________________\n",
            "------------------------------------------------------------------------\n",
            "Training for fold 2 ...\n",
            "Score for fold 2: loss of 0.6964317560195923; accuracy of 28.57142984867096%\n",
            "Model: \"sequential_7\"\n",
            "_________________________________________________________________\n",
            " Layer (type)                Output Shape              Param #   \n",
            "=================================================================\n",
            " dense_21 (Dense)            (None, 4)                 8         \n",
            "                                                                 \n",
            " dense_22 (Dense)            (None, 4)                 20        \n",
            "                                                                 \n",
            " dense_23 (Dense)            (None, 2)                 10        \n",
            "                                                                 \n",
            "=================================================================\n",
            "Total params: 38 (152.00 Byte)\n",
            "Trainable params: 38 (152.00 Byte)\n",
            "Non-trainable params: 0 (0.00 Byte)\n",
            "_________________________________________________________________\n",
            "------------------------------------------------------------------------\n",
            "Training for fold 3 ...\n",
            "Score for fold 3: loss of 0.7020588517189026; accuracy of 21.42857164144516%\n",
            "Model: \"sequential_8\"\n",
            "_________________________________________________________________\n",
            " Layer (type)                Output Shape              Param #   \n",
            "=================================================================\n",
            " dense_24 (Dense)            (None, 4)                 8         \n",
            "                                                                 \n",
            " dense_25 (Dense)            (None, 4)                 20        \n",
            "                                                                 \n",
            " dense_26 (Dense)            (None, 2)                 10        \n",
            "                                                                 \n",
            "=================================================================\n",
            "Total params: 38 (152.00 Byte)\n",
            "Trainable params: 38 (152.00 Byte)\n",
            "Non-trainable params: 0 (0.00 Byte)\n",
            "_________________________________________________________________\n",
            "------------------------------------------------------------------------\n",
            "Training for fold 4 ...\n",
            "Score for fold 4: loss of 0.6975669860839844; accuracy of 35.71428656578064%\n",
            "Model: \"sequential_9\"\n",
            "_________________________________________________________________\n",
            " Layer (type)                Output Shape              Param #   \n",
            "=================================================================\n",
            " dense_27 (Dense)            (None, 4)                 8         \n",
            "                                                                 \n",
            " dense_28 (Dense)            (None, 4)                 20        \n",
            "                                                                 \n",
            " dense_29 (Dense)            (None, 2)                 10        \n",
            "                                                                 \n",
            "=================================================================\n",
            "Total params: 38 (152.00 Byte)\n",
            "Trainable params: 38 (152.00 Byte)\n",
            "Non-trainable params: 0 (0.00 Byte)\n",
            "_________________________________________________________________\n",
            "------------------------------------------------------------------------\n",
            "Training for fold 5 ...\n",
            "Score for fold 5: loss of 0.6983645558357239; accuracy of 46.15384638309479%\n"
          ]
        }
      ]
    },
    {
      "cell_type": "code",
      "source": [
        "plt.bar(range(0, num_folds), loss_per_fold)\n",
        "plt.show()"
      ],
      "metadata": {
        "colab": {
          "base_uri": "https://localhost:8080/",
          "height": 430
        },
        "id": "TvhDq0UChrSd",
        "outputId": "3ed421ba-6b69-47a0-cab3-82ad55936803"
      },
      "execution_count": 18,
      "outputs": [
        {
          "output_type": "display_data",
          "data": {
            "text/plain": [
              "<Figure size 640x480 with 1 Axes>"
            ],
            "image/png": "[encoded data removed]"
          },
          "metadata": {}
        }
      ]
    },
    {
      "cell_type": "code",
      "source": [
        "plt.bar(range(0, num_folds), acc_per_fold)\n",
        "plt.show()"
      ],
      "metadata": {
        "colab": {
          "base_uri": "https://localhost:8080/",
          "height": 430
        },
        "id": "XiPpj5DohrVl",
        "outputId": "65c7368e-794d-42d2-ccfd-5345066d4606"
      },
      "execution_count": 19,
      "outputs": [
        {
          "output_type": "display_data",
          "data": {
            "text/plain": [
              "<Figure size 640x480 with 1 Axes>"
            ],
            "image/png": "[encoded data removed]"
          },
          "metadata": {}
        }
      ]
    },
    {
      "cell_type": "code",
      "source": [],
      "metadata": {
        "id": "mYZR82T119Cz"
      },
      "execution_count": 19,
      "outputs": []
    }
  ]
}